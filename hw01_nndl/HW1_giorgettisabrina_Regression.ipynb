{
  "nbformat": 4,
  "nbformat_minor": 5,
  "metadata": {
    "kernelspec": {
      "display_name": "Python 3",
      "language": "python",
      "name": "python3"
    },
    "language_info": {
      "codemirror_mode": {
        "name": "ipython",
        "version": 3
      },
      "file_extension": ".py",
      "mimetype": "text/x-python",
      "name": "python",
      "nbconvert_exporter": "python",
      "pygments_lexer": "ipython3",
      "version": "3.8.5"
    },
    "colab": {
      "name": "HW1_giorgettisabrina_Regression.ipynb",
      "provenance": []
    }
  },
  "cells": [
    {
      "cell_type": "markdown",
      "metadata": {
        "id": "8efe1a7b"
      },
      "source": [
        "# Regression task"
      ],
      "id": "8efe1a7b"
    },
    {
      "cell_type": "markdown",
      "metadata": {
        "id": "d651be8f"
      },
      "source": [
        "## General overview\n",
        "In this homework you will learn how to implement and test simple neural network models for solving supervised problems. It is divided in two tasks.\n",
        "\n",
        "* **Regression task**: \n",
        "the regression model will consist in a simple function approximation problem, similar to the one discussed during the Lab practices. \n",
        "\n",
        "* **Classification task**: \n",
        "the classification model will consist in a simple image recognition problem, where the goal is to correctly classify images of Zalando's article images (Fashion MNIST). \n",
        "\n",
        "In both cases, but especially for the classification problem, you should explore the use of advanced optimizers and regularization methods (e.g., initialization scheme, momentum, ADAM, early stopping, L2, L1 / sparsity, dropout…) to improve convergence of stochastic gradient descent and promote generalization. Learning hyperparameters should be tuned using appropriate search procedures, and final accuracy should be evaluated using a cross-validation setup. For the image classification task, you can also implement more advanced convolutional architectures and explore feature visualization techniques to better understand how the deep network is encoding information at different processing layers."
      ],
      "id": "d651be8f"
    },
    {
      "cell_type": "markdown",
      "metadata": {
        "id": "1abb23be"
      },
      "source": [
        "\n",
        "## Grade\n",
        "The maximum grade for this homework will be **8 points**. Points will be assigned based on the correct implementation of the following items:\n",
        "*\t2 pt: implement basic regression and classification tasks\n",
        "*\t2 pt: explore advanced optimizers and regularization methods (both tasks)\n",
        "*\t1 pt: optimize hyperparameters using grid/random search and cross-validation (both tasks)\n",
        "*\t2 pt: implement CNN for classification task\n",
        "*\t1 pt: visualize weight histograms, activation profiles and receptive fields\n"
      ],
      "id": "1abb23be"
    },
    {
      "cell_type": "markdown",
      "metadata": {
        "id": "9e96fbb4"
      },
      "source": [
        "## Guidelines"
      ],
      "id": "9e96fbb4"
    },
    {
      "cell_type": "markdown",
      "metadata": {
        "id": "ee2be59d"
      },
      "source": [
        "* The goal is to train a neural network to approximate an unknown function:\n",
        "$$ \n",
        "f:\\mathbb{R}→\\mathbb{R} \\\\\n",
        "x↦y=f(x) \\\\\n",
        "\\text{network}(x) \\approx f(x)\n",
        "$$\n",
        "* As training point, you only have noisy measures from the target function.\n",
        "$$\n",
        "\\hat{y} = f(x) + noise\n",
        "$$\n",
        "* Consider to create a validation set from you training data, or use a k-fold cross-validation strategy. You may find useful these functions from the `scikit-learn` library:\n",
        "    - [train_test_split](https://scikit-learn.org/stable/modules/generated/sklearn.model_selection.train_test_split.html)\n",
        "    - [KFold](https://scikit-learn.org/stable/modules/generated/sklearn.model_selection.KFold.html#sklearn.model_selection.KFold) "
      ],
      "id": "ee2be59d"
    },
    {
      "cell_type": "markdown",
      "metadata": {
        "id": "a7e02935"
      },
      "source": [
        "## Dataset"
      ],
      "id": "a7e02935"
    },
    {
      "cell_type": "code",
      "metadata": {
        "id": "4d0f0988"
      },
      "source": [
        "import pandas as pd\n",
        "import matplotlib.pyplot as plt\n",
        "import numpy as np\n",
        "from sklearn.model_selection import train_test_split\n",
        "\n",
        "\n",
        "import torch\n",
        "import torch.nn as nn\n",
        "import torch.optim as optim\n",
        "from torch.utils.data import Dataset, DataLoader\n",
        "from torchvision import transforms"
      ],
      "id": "4d0f0988",
      "execution_count": 1,
      "outputs": []
    },
    {
      "cell_type": "code",
      "metadata": {
        "id": "caa0d167"
      },
      "source": [
        "import os\n",
        "os.environ['CUDA_LAUNCH_BLOCKING'] = '1'"
      ],
      "id": "caa0d167",
      "execution_count": 2,
      "outputs": []
    },
    {
      "cell_type": "markdown",
      "metadata": {
        "id": "593ee30d"
      },
      "source": [
        "The following cell of code will download the dataset and make it available in the local folder `regression_dataset`. There are two files:\n",
        "\n",
        "* `regression_dataset/train_data.csv`\n",
        "* `regression_dataset/test_data.csv`\n",
        "\n",
        "Use them to train and test your model. Each row contains two values, respactively the input and the target (label)."
      ],
      "id": "593ee30d"
    },
    {
      "cell_type": "code",
      "metadata": {
        "colab": {
          "base_uri": "https://localhost:8080/"
        },
        "id": "b5bd534b",
        "outputId": "cee40e19-7e6f-4c7a-e259-308129df2598"
      },
      "source": [
        "!wget -P regression_dataset https://gitlab.dei.unipd.it/michieli/nnld-2021-22-lab-resources/-/raw/main/homework1/train_data.csv\n",
        "!wget -P regression_dataset https://gitlab.dei.unipd.it/michieli/nnld-2021-22-lab-resources/-/raw/main/homework1/test_data.csv "
      ],
      "id": "b5bd534b",
      "execution_count": 3,
      "outputs": [
        {
          "output_type": "stream",
          "name": "stdout",
          "text": [
            "--2022-06-01 15:16:57--  https://gitlab.dei.unipd.it/michieli/nnld-2021-22-lab-resources/-/raw/main/homework1/train_data.csv\n",
            "Resolving gitlab.dei.unipd.it (gitlab.dei.unipd.it)... 147.162.2.85\n",
            "Connecting to gitlab.dei.unipd.it (gitlab.dei.unipd.it)|147.162.2.85|:443... connected.\n",
            "HTTP request sent, awaiting response... 200 OK\n",
            "Length: 3776 (3.7K) [text/plain]\n",
            "Saving to: ‘regression_dataset/train_data.csv’\n",
            "\n",
            "train_data.csv      100%[===================>]   3.69K  --.-KB/s    in 0s      \n",
            "\n",
            "2022-06-01 15:16:58 (57.3 MB/s) - ‘regression_dataset/train_data.csv’ saved [3776/3776]\n",
            "\n",
            "--2022-06-01 15:16:58--  https://gitlab.dei.unipd.it/michieli/nnld-2021-22-lab-resources/-/raw/main/homework1/test_data.csv\n",
            "Resolving gitlab.dei.unipd.it (gitlab.dei.unipd.it)... 147.162.2.85\n",
            "Connecting to gitlab.dei.unipd.it (gitlab.dei.unipd.it)|147.162.2.85|:443... connected.\n",
            "HTTP request sent, awaiting response... 200 OK\n",
            "Length: 3788 (3.7K) [text/plain]\n",
            "Saving to: ‘regression_dataset/test_data.csv’\n",
            "\n",
            "test_data.csv       100%[===================>]   3.70K  --.-KB/s    in 0s      \n",
            "\n",
            "2022-06-01 15:16:59 (63.4 MB/s) - ‘regression_dataset/test_data.csv’ saved [3788/3788]\n",
            "\n"
          ]
        }
      ]
    },
    {
      "cell_type": "markdown",
      "metadata": {
        "id": "ae520a96"
      },
      "source": [
        "How to load the data:"
      ],
      "id": "ae520a96"
    },
    {
      "cell_type": "code",
      "metadata": {
        "id": "2f57eb01"
      },
      "source": [
        "train_df = pd.read_csv('regression_dataset/train_data.csv')\n",
        "test_df=pd.read_csv('regression_dataset/test_data.csv')"
      ],
      "id": "2f57eb01",
      "execution_count": 4,
      "outputs": []
    },
    {
      "cell_type": "markdown",
      "metadata": {
        "id": "1fc75f4f"
      },
      "source": [
        "## How to get a specific sample:"
      ],
      "id": "1fc75f4f"
    },
    {
      "cell_type": "code",
      "metadata": {
        "colab": {
          "base_uri": "https://localhost:8080/"
        },
        "id": "80dc39be",
        "outputId": "219b043a-1a8b-460a-fadb-c8506f41bf59"
      },
      "source": [
        "sample_index = 0\n",
        "input = train_df.iloc[sample_index]['input']\n",
        "label = train_df.iloc[sample_index]['label']\n",
        "\n",
        "print(f\"SAMPLE AT INDEX {sample_index}\")\n",
        "print(f\"INPUT: {input}\")\n",
        "print(f\"LABEL: {label}\")"
      ],
      "id": "80dc39be",
      "execution_count": 5,
      "outputs": [
        {
          "output_type": "stream",
          "name": "stdout",
          "text": [
            "SAMPLE AT INDEX 0\n",
            "INPUT: -4.787870188090535\n",
            "LABEL: -1.216803599957529\n"
          ]
        }
      ]
    },
    {
      "cell_type": "markdown",
      "metadata": {
        "id": "bc8625ec"
      },
      "source": [
        "All training points:"
      ],
      "id": "bc8625ec"
    },
    {
      "cell_type": "code",
      "metadata": {
        "colab": {
          "base_uri": "https://localhost:8080/",
          "height": 437
        },
        "id": "65774565",
        "outputId": "22aab235-e7f2-4f6c-b933-3f549d37c7d9"
      },
      "source": [
        "fig = plt.figure(figsize=(12,8))\n",
        "plt.scatter(train_df.input, train_df.label, label='Training points')\n",
        "plt.xlabel('input')\n",
        "plt.ylabel('label')\n",
        "plt.legend()\n",
        "plt.show()"
      ],
      "id": "65774565",
      "execution_count": 6,
      "outputs": [
        {
          "output_type": "display_data",
          "data": {
            "text/plain": [
              "<Figure size 864x576 with 1 Axes>"
            ],
            "image/png": "[encoded data removed]"
          },
          "metadata": {
            "needs_background": "light"
          }
        }
      ]
    },
    {
      "cell_type": "code",
      "metadata": {
        "id": "bc9508d3"
      },
      "source": [
        ""
      ],
      "id": "bc9508d3",
      "execution_count": null,
      "outputs": []
    },
    {
      "cell_type": "markdown",
      "metadata": {
        "id": "1bpins9w_eUO"
      },
      "source": [
        "## Exercise: basic regression"
      ],
      "id": "1bpins9w_eUO"
    },
    {
      "cell_type": "code",
      "metadata": {
        "id": "KvFWu2uo_g3L"
      },
      "source": [
        "class Net(nn.Module):\n",
        "    \n",
        "    def __init__(self, Ni, Nh1, Nh2, No):\n",
        "        \"\"\"\n",
        "        Ni - Input size\n",
        "        Nh1 - Neurons in the 1st hidden layer\n",
        "        Nh2 - Neurons in the 2nd hidden layer\n",
        "        No - Output size\n",
        "        \"\"\"\n",
        "        super().__init__()\n",
        "        \n",
        "        print('Network initialized')\n",
        "        #netowrk architecture\n",
        "        self.fc1 = nn.Linear(in_features=Ni, out_features=Nh1)\n",
        "        self.fc2 = nn.Linear(in_features=Nh1, out_features=Nh2)\n",
        "        self.out = nn.Linear(in_features=Nh2, out_features=No)\n",
        "        self.act = nn.Sigmoid()\n",
        "        \n",
        "    def forward(self, x, additional_out=False):\n",
        "        x = self.act(self.fc1(x)) #don't forget activation: not included by default \n",
        "        x = self.act(self.fc2(x))\n",
        "        x = self.out(x)\n",
        "        return x\n",
        "\n",
        "    def training(self, device, train_dataloader, loss_fn, optimizer):\n",
        "\n",
        "      #Training mode \n",
        "      self.train()\n",
        "      #net.train() # Training mode (e.g. enable dropout, batchnorm updates,...)\n",
        "      train_loss= []\n",
        "      for sample_batched in train_dataloader:\n",
        "        # Move data to device\n",
        "        x_batch = sample_batched[0].to(device)\n",
        "        label_batch = sample_batched[1].to(device)\n",
        "\n",
        "        # Forward pass\n",
        "        out = self.foward(x_batch)\n",
        "        #out = net(x_batch)\n",
        "\n",
        "        # Compute loss\n",
        "        loss = loss_fn(out, label_batch)\n",
        "\n",
        "        # Backpropagation\n",
        "        self.zero_grad() \n",
        "        #net.zero_grad() #set all the gradient to zero\n",
        "        loss.backward() #call the backward func.\n",
        "\n",
        "        # Update the weights\n",
        "        optimizer.step()\n",
        "\n",
        "        # Save train loss for this batch\n",
        "        loss_batch = loss.detach().cpu().numpy()\n",
        "        train_loss.append(loss_batch)\n",
        "\n",
        "      return train_loss\n",
        "\n",
        "    def validation(self, device, val_dataloader, loss_fn):\n",
        "       ### VALIDATION\n",
        "       val_loss= []\n",
        "       #Set network in evaluation mode, parameters are frozd, in this case we do the \n",
        "       #validation after every step of the training\n",
        "\n",
        "       self.eval()\n",
        "       #net.eval() # Evaluation mode (e.g. disable dropout, batchnorm,...)\n",
        "       with torch.no_grad(): # Disable gradient tracking\n",
        "            for sample_batched in val_dataloader:\n",
        "               # Move data to device\n",
        "                x_batch = sample_batched[0].to(device)\n",
        "               label_batch = sample_batched[1].to(device)\n",
        "\n",
        "               # Forward pass\n",
        "               out=self.foward(x_batch)\n",
        "               #out = net(x_batch)\n",
        "\n",
        "               # Compute loss\n",
        "               loss = loss_fn(out, label_batch)\n",
        "\n",
        "                # Save val loss for this batch\n",
        "                loss_batch = loss.detach().cpu().numpy()\n",
        "                val_loss.append(loss_batch)\n",
        "\n",
        "            # Save average validation loss\n",
        "            #val_loss = np.mean(val_loss)\n",
        "            #print(f\"AVERAGE VAL LOSS: {np.mean(val_loss)}\")\n",
        "            #val_loss_log.append(val_loss)\n",
        "      return val_loss\n",
        "\n",
        "    ??????\n",
        "    # def fit():\n",
        "    #  return output \n",
        "\n",
        "    def test(self, device, test_dataset, loss_fn):\n",
        "      return output\n",
        "\n",
        "    "
      ],
      "id": "KvFWu2uo_g3L",
      "execution_count": 7,
      "outputs": []
    },
    {
      "cell_type": "code",
      "metadata": {
        "id": "niPLxTb__mWm"
      },
      "source": [
        "class CsvDataset(Dataset):\n",
        "\n",
        "  def __init__(self, csv_file: str, transform=None):\n",
        "    self.transform = transform\n",
        "    self.data = csv_file\n",
        "\n",
        "  def __len__(self):\n",
        "    # The length of the dataset is simply the length of the self.data list\n",
        "    return len(self.data)\n",
        "\n",
        "  def __getitem__(self, idx):\n",
        "    # sample: ('index', 'label) --> sample = (csv_file index elem, csv_file column element)\n",
        "    sample = (self.data.iloc[idx][0], self.data.iloc[idx][1])\n",
        "    if self.transform:\n",
        "        sample = self.transform(sample)\n",
        "    return sample\n"
      ],
      "id": "niPLxTb__mWm",
      "execution_count": 8,
      "outputs": []
    },
    {
      "cell_type": "code",
      "metadata": {
        "id": "VxSet5VB_oFb"
      },
      "source": [
        "class ToTensor(object):\n",
        "    \"\"\"Convert sample to Tensors.\"\"\"\n",
        "\n",
        "    def __call__(self, sample):\n",
        "        x, y = sample\n",
        "        return (torch.tensor([x]).float(),\n",
        "                torch.tensor([y]).float())"
      ],
      "id": "VxSet5VB_oFb",
      "execution_count": 9,
      "outputs": []
    },
    {
      "cell_type": "code",
      "metadata": {
        "id": "p-n0evAMN-qG"
      },
      "source": [
        "train_split, val_split = train_test_split(train_df,test_size=0.2, shuffle= True)\n",
        "train_split = train_split.reset_index(drop=True)\n",
        "val_split = val_split.reset_index(drop=True)"
      ],
      "id": "p-n0evAMN-qG",
      "execution_count": 10,
      "outputs": []
    },
    {
      "cell_type": "code",
      "metadata": {
        "id": "HaMnL2wn_qD9"
      },
      "source": [
        "composed_transform = transforms.Compose([ToTensor()])\n",
        "\n",
        "train_dataset = CsvDataset(train_split, transform=composed_transform)\n",
        "val_dataset = CsvDataset(val_split, transform=composed_transform)\n",
        "test_dataset= CsvDataset(test_df, transform=composed_transform)\n"
      ],
      "id": "HaMnL2wn_qD9",
      "execution_count": 11,
      "outputs": []
    },
    {
      "cell_type": "code",
      "source": [
        "print(train_dataset)"
      ],
      "metadata": {
        "id": "0QUAlRS01ob1",
        "outputId": "c963b38b-6256-448c-def1-d8d3c2cedcbc",
        "colab": {
          "base_uri": "https://localhost:8080/"
        }
      },
      "id": "0QUAlRS01ob1",
      "execution_count": 12,
      "outputs": [
        {
          "output_type": "stream",
          "name": "stdout",
          "text": [
            "<__main__.CsvDataset object at 0x7f41487efa10>\n"
          ]
        }
      ]
    },
    {
      "cell_type": "code",
      "metadata": {
        "id": "0QObCsT0_9t_"
      },
      "source": [
        "train_dataloader = DataLoader(train_dataset, batch_size=len(train_dataset), shuffle=True, num_workers=0)\n",
        "val_dataloader  = DataLoader(val_dataset,  batch_size=len(val_dataset), shuffle=False, num_workers=0)\n",
        "\n"
      ],
      "id": "0QObCsT0_9t_",
      "execution_count": 13,
      "outputs": []
    },
    {
      "cell_type": "code",
      "metadata": {
        "colab": {
          "base_uri": "https://localhost:8080/"
        },
        "id": "VIwj5ZqjAE0J",
        "outputId": "af7716d6-026b-4ccb-aaf8-7f5ee8377740"
      },
      "source": [
        "# Check if the GPU is available\n",
        "device = torch.device(\"cuda\") if torch.cuda.is_available() else torch.device(\"cpu\")\n",
        "print(f\"Training device: {device}\")"
      ],
      "id": "VIwj5ZqjAE0J",
      "execution_count": 15,
      "outputs": [
        {
          "output_type": "stream",
          "name": "stdout",
          "text": [
            "Training device: cpu\n"
          ]
        }
      ]
    },
    {
      "cell_type": "code",
      "metadata": {
        "colab": {
          "base_uri": "https://localhost:8080/"
        },
        "id": "UrTKB-e0AGTS",
        "outputId": "e1d06c11-52ac-47ae-94be-aa71af7807e5"
      },
      "source": [
        "# Initialize the network\n",
        "torch.manual_seed(0)\n",
        "Ni = 1\n",
        "Nh1 = 128\n",
        "Nh2 = 128\n",
        "No = 1\n",
        "net = Net(Ni, Nh1, Nh2, No)\n",
        "net.to(device)\n",
        "\n",
        "# Define the loss function\n",
        "loss_fn = nn.MSELoss()\n",
        "\n",
        "# Define the optimizer\n",
        "optimizer = optim.Adam(net.parameters(), lr=1e-3)"
      ],
      "id": "UrTKB-e0AGTS",
      "execution_count": 16,
      "outputs": [
        {
          "output_type": "stream",
          "name": "stdout",
          "text": [
            "Network initialized\n"
          ]
        }
      ]
    },
    {
      "cell_type": "code",
      "metadata": {
        "id": "T_VD4Jj3ALIN"
      },
      "source": [
        "### TRAINING LOOP\n",
        "\n",
        "#SG run some epochs over the data, to do this a just a for loop, inside we loop over the batches. \n",
        "#Here the network must be in training mode.\n",
        "\n",
        "num_epochs = 1000\n",
        "train_loss_log = []\n",
        "val_loss_log = []\n",
        "for epoch_num in range(num_epochs):\n",
        "    #print('#################')\n",
        "    #print(f'# EPOCH {epoch_num}')\n",
        "    #print('#################')\n",
        "\n",
        "    ### TRAIN\n",
        "    train_loss= []\n",
        "    net.train() # Training mode (e.g. enable dropout, batchnorm updates,...)\n",
        "    for sample_batched in train_dataloader:\n",
        "        # Move data to device\n",
        "        x_batch = sample_batched[0].to(device)\n",
        "        label_batch = sample_batched[1].to(device)\n",
        "\n",
        "        # Forward pass\n",
        "        out = net(x_batch)\n",
        "\n",
        "        # Compute loss\n",
        "        loss = loss_fn(out, label_batch)\n",
        "\n",
        "        # Backpropagation\n",
        "        net.zero_grad() #set all the gradient to zero\n",
        "        loss.backward() #call the backward func.\n",
        "\n",
        "        # Update the weights\n",
        "        optimizer.step()\n",
        "\n",
        "        # Save train loss for this batch\n",
        "        loss_batch = loss.detach().cpu().numpy()\n",
        "        train_loss.append(loss_batch)\n",
        "\n",
        "    # Save average train loss\n",
        "    train_loss = np.mean(train_loss)\n",
        "    #print(f\"AVERAGE TRAIN LOSS: {train_loss}\")\n",
        "    train_loss_log.append(train_loss)\n",
        "\n",
        "    ### VALIDATION\n",
        "    val_loss= []\n",
        "    #Set network in evaluation mode, parameters are frozd, in this case we do the \n",
        "    #validation after every step of the training\n",
        "    \n",
        "    net.eval() # Evaluation mode (e.g. disable dropout, batchnorm,...)\n",
        "    with torch.no_grad(): # Disable gradient tracking\n",
        "        for sample_batched in val_dataloader:\n",
        "            # Move data to device\n",
        "            x_batch = sample_batched[0].to(device)\n",
        "            label_batch = sample_batched[1].to(device)\n",
        "\n",
        "            # Forward pass\n",
        "            out = net(x_batch)\n",
        "\n",
        "            # Compute loss\n",
        "            loss = loss_fn(out, label_batch)\n",
        "\n",
        "            # Save val loss for this batch\n",
        "            loss_batch = loss.detach().cpu().numpy()\n",
        "            val_loss.append(loss_batch)\n",
        "\n",
        "        # Save average validation loss\n",
        "        val_loss = np.mean(val_loss)\n",
        "        #print(f\"AVERAGE VAL LOSS: {np.mean(val_loss)}\")\n",
        "        val_loss_log.append(val_loss)"
      ],
      "id": "T_VD4Jj3ALIN",
      "execution_count": 84,
      "outputs": []
    },
    {
      "cell_type": "code",
      "metadata": {
        "colab": {
          "base_uri": "https://localhost:8080/",
          "height": 434
        },
        "id": "UkaM6nzkGsf5",
        "outputId": "153c9a9d-c89c-4d36-819e-cf0b465bdf83"
      },
      "source": [
        "# Plot losses\n",
        "plt.figure(figsize=(12,8))\n",
        "plt.semilogy(train_loss_log, label='Train loss')\n",
        "plt.semilogy(val_loss_log, label='Validation loss')\n",
        "plt.xlabel('Epoch')\n",
        "plt.ylabel('Loss')\n",
        "plt.grid()\n",
        "plt.legend()\n",
        "plt.show()"
      ],
      "id": "UkaM6nzkGsf5",
      "execution_count": 85,
      "outputs": [
        {
          "output_type": "display_data",
          "data": {
            "text/plain": [
              "<Figure size 864x576 with 1 Axes>"
            ],
            "image/png": "[encoded data removed]"
          },
          "metadata": {
            "needs_background": "light"
          }
        }
      ]
    },
    {
      "cell_type": "code",
      "metadata": {
        "id": "r81I7TR9P0vb"
      },
      "source": [
        ""
      ],
      "id": "r81I7TR9P0vb",
      "execution_count": null,
      "outputs": []
    },
    {
      "cell_type": "markdown",
      "metadata": {
        "id": "4WuWH68ebVjd"
      },
      "source": [
        "## Exercise: Explore advanced optimizers and regularization methods (both tasks)"
      ],
      "id": "4WuWH68ebVjd"
    },
    {
      "cell_type": "code",
      "metadata": {
        "id": "K5EfyoGpbDIc"
      },
      "source": [
        "#from ML \n",
        "\n",
        "\n",
        "#import for Cross-Validation\n",
        "from sklearn.model_selection import GridSearchCV\n",
        "\n",
        "# parameters for linear SVM\n",
        "parameters = {'C': [0.001, 0.01, 0.1, 1, 10, 100]}\n",
        "\n",
        "#train linear SVM\n",
        "\n",
        "# ADD YOUR CODE\n",
        "svc = SVC(kernel='linear')\n",
        "grid = GridSearchCV(estimator=svc, param_grid=parameters, cv=4)\n",
        "grid.fit(X_train,y_train)\n",
        "\n",
        "result_df = pd.DataFrame(grid.cv_results_)\n",
        "#print(result_df)\n",
        "print(\"\\n\")\n",
        "\n",
        "print ('RESULTS FOR LINEAR KERNEL')\n",
        "print(\"Best parameters set found:\", grid.best_params_ ) # ADD YOUR CODE\n",
        "print(\"Score with best parameters:\", \"{0:0.3f}\".format(grid.best_score_)) # ADD YOUR CODE\n",
        "print(\"\\n\") \n",
        "\n",
        "print(\"All scores on the grid \\n\", result_df[['params','split0_test_score','split1_test_score','split2_test_score', 'split3_test_score','mean_test_score', 'rank_test_score']]) # ADD YOUR CODE\n",
        "print(\"\\n\") "
      ],
      "id": "K5EfyoGpbDIc",
      "execution_count": null,
      "outputs": []
    },
    {
      "cell_type": "markdown",
      "metadata": {
        "id": "CQFgGADvbCG0"
      },
      "source": [
        "## Exercise: K FOLD , optimize hyperparameters using grid/random search and cross-validation (both tasks)"
      ],
      "id": "CQFgGADvbCG0"
    },
    {
      "cell_type": "code",
      "metadata": {
        "id": "kCkltMAUb9OD",
        "outputId": "48a880ab-46de-4d50-8b05-128cdcecaa32",
        "colab": {
          "base_uri": "https://localhost:8080/"
        }
      },
      "source": [
        "#from sklearn manual \n",
        "\n",
        "import numpy as np\n",
        "from sklearn.model_selection import KFold\n",
        "X = np.array([[1, 2], [3, 4], [1, 2], [3, 4]])\n",
        "y = np.array([1, 2, 3, 4])\n",
        "kf = KFold(n_splits=2)\n",
        "kf.get_n_splits(X)\n",
        "\n",
        "print(kf)\n",
        "\n",
        "for train_index, test_index in kf.split(X):\n",
        "    print(\"TRAIN:\", train_index, \"TEST:\", test_index)\n",
        "    X_train, X_test = X[train_index], X[test_index]\n",
        "    y_train, y_test = y[train_index], y[test_index]"
      ],
      "id": "kCkltMAUb9OD",
      "execution_count": null,
      "outputs": [
        {
          "output_type": "stream",
          "name": "stdout",
          "text": [
            "KFold(n_splits=2, random_state=None, shuffle=False)\n",
            "TRAIN: [2 3] TEST: [0 1]\n",
            "TRAIN: [0 1] TEST: [2 3]\n"
          ]
        }
      ]
    },
    {
      "cell_type": "code",
      "metadata": {
        "id": "MNeFwHYkcIsL"
      },
      "source": [
        ""
      ],
      "id": "MNeFwHYkcIsL",
      "execution_count": null,
      "outputs": []
    }
  ]
}