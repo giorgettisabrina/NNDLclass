{
 "cells": [
  {
   "cell_type": "markdown",
   "id": "8efe1a7b",
   "metadata": {
    "id": "rZCClsi8vrYi"
   },
   "source": [
    "# Regression task"
   ]
  },
  {
   "cell_type": "markdown",
   "id": "d651be8f",
   "metadata": {},
   "source": [
    "## General overview\n",
    "In this homework you will learn how to implement and test simple neural network models for solving supervised problems. It is divided in two tasks.\n",
    "\n",
    "* **Regression task**: \n",
    "the regression model will consist in a simple function approximation problem, similar to the one discussed during the Lab practices. \n",
    "\n",
    "* **Classification task**: \n",
    "the classification model will consist in a simple image recognition problem, where the goal is to correctly classify images of Zalando's article images (Fashion MNIST). \n",
    "\n",
    "In both cases, but especially for the classification problem, you should explore the use of advanced optimizers and regularization methods (e.g., initialization scheme, momentum, ADAM, early stopping, L2, L1 / sparsity, dropout…) to improve convergence of stochastic gradient descent and promote generalization. Learning hyperparameters should be tuned using appropriate search procedures, and final accuracy should be evaluated using a cross-validation setup. For the image classification task, you can also implement more advanced convolutional architectures and explore feature visualization techniques to better understand how the deep network is encoding information at different processing layers."
   ]
  },
  {
   "cell_type": "markdown",
   "id": "1abb23be",
   "metadata": {},
   "source": [
    "\n",
    "## Grade\n",
    "The maximum grade for this homework will be **8 points**. Points will be assigned based on the correct implementation of the following items:\n",
    "*\t2 pt: implement basic regression and classification tasks\n",
    "*\t2 pt: explore advanced optimizers and regularization methods (both tasks)\n",
    "*\t1 pt: optimize hyperparameters using grid/random search and cross-validation (both tasks)\n",
    "*\t2 pt: implement CNN for classification task\n",
    "*\t1 pt: visualize weight histograms, activation profiles and receptive fields\n"
   ]
  },
  {
   "cell_type": "markdown",
   "id": "9e96fbb4",
   "metadata": {
    "id": "pHeLKNYayXKO"
   },
   "source": [
    "## Guidelines"
   ]
  },
  {
   "cell_type": "markdown",
   "id": "ee2be59d",
   "metadata": {
    "id": "zs0AM6W_yoMs"
   },
   "source": [
    "* The goal is to train a neural network to approximate an unknown function:\n",
    "$$ \n",
    "f:\\mathbb{R}→\\mathbb{R} \\\\\n",
    "x↦y=f(x) \\\\\n",
    "\\text{network}(x) \\approx f(x)\n",
    "$$\n",
    "* As training point, you only have noisy measures from the target function.\n",
    "$$\n",
    "\\hat{y} = f(x) + noise\n",
    "$$\n",
    "* Consider to create a validation set from you training data, or use a k-fold cross-validation strategy. You may find useful these functions from the `scikit-learn` library:\n",
    "    - [train_test_split](https://scikit-learn.org/stable/modules/generated/sklearn.model_selection.train_test_split.html)\n",
    "    - [KFold](https://scikit-learn.org/stable/modules/generated/sklearn.model_selection.KFold.html#sklearn.model_selection.KFold) "
   ]
  },
  {
   "cell_type": "markdown",
   "id": "a7e02935",
   "metadata": {
    "id": "JpHoPt5nyocz"
   },
   "source": [
    "## Dataset"
   ]
  },
  {
   "cell_type": "code",
   "execution_count": null,
   "id": "4d0f0988",
   "metadata": {},
   "outputs": [],
   "source": [
    "import pandas as pd\n",
    "import matplotlib.pyplot as plt\n",
    "import numpy as np\n",
    "from sklearn.model_selection import train_test_split\n",
    "\n",
    "\n",
    "import torch\n",
    "import torch.nn as nn\n",
    "import torch.optim as optim\n",
    "from torch.utils.data import Dataset, DataLoader\n",
    "from torchvision import transforms"
   ]
  },
  {
   "cell_type": "code",
   "execution_count": null,
   "id": "caa0d167",
   "metadata": {},
   "outputs": [],
   "source": [
    "import os\n",
    "os.environ['CUDA_LAUNCH_BLOCKING'] = '1'"
   ]
  },
  {
   "cell_type": "markdown",
   "id": "593ee30d",
   "metadata": {},
   "source": [
    "The following cell of code will download the dataset and make it available in the local folder `regression_dataset`. There are two files:\n",
    "\n",
    "* `regression_dataset/train_data.csv`\n",
    "* `regression_dataset/test_data.csv`\n",
    "\n",
    "Use them to train and test your model. Each row contains two values, respactively the input and the target (label)."
   ]
  },
  {
   "cell_type": "code",
   "execution_count": null,
   "id": "b5bd534b",
   "metadata": {},
   "outputs": [],
   "source": [
    "#!wget -P regression_dataset https://gitlab.dei.unipd.it/michieli/nnld-2021-22-lab-resources/-/raw/main/homework1/train_data.csv\n",
    "#!wget -P regression_dataset https://gitlab.dei.unipd.it/michieli/nnld-2021-22-lab-resources/-/raw/main/homework1/test_data.csv "
   ]
  },
  {
   "cell_type": "markdown",
   "id": "ae520a96",
   "metadata": {},
   "source": [
    "How to load the data:"
   ]
  },
  {
   "cell_type": "code",
   "execution_count": null,
   "id": "2f57eb01",
   "metadata": {},
   "outputs": [],
   "source": [
    "train_df = pd.read_csv('regression_dataset/train_data.csv')\n",
    "test_df=pd.read_csv('regression_dataset/test_data.csv')"
   ]
  },
  {
   "cell_type": "markdown",
   "id": "1fc75f4f",
   "metadata": {},
   "source": [
    "## How to get a specific sample:"
   ]
  },
  {
   "cell_type": "code",
   "execution_count": null,
   "id": "80dc39be",
   "metadata": {},
   "outputs": [],
   "source": [
    "sample_index = 0\n",
    "input = train_df.iloc[sample_index]['input']\n",
    "label = train_df.iloc[sample_index]['label']\n",
    "\n",
    "print(f\"SAMPLE AT INDEX {sample_index}\")\n",
    "print(f\"INPUT: {input}\")\n",
    "print(f\"LABEL: {label}\")"
   ]
  },
  {
   "cell_type": "markdown",
   "id": "bc8625ec",
   "metadata": {},
   "source": [
    "All training points:"
   ]
  },
  {
   "cell_type": "code",
   "execution_count": null,
   "id": "65774565",
   "metadata": {},
   "outputs": [],
   "source": [
    "fig = plt.figure(figsize=(12,8))\n",
    "plt.scatter(train_df.input, train_df.label, label='Training points')\n",
    "plt.xlabel('input')\n",
    "plt.ylabel('label')\n",
    "plt.legend()\n",
    "plt.show()"
   ]
  },
  {
   "cell_type": "code",
   "execution_count": null,
   "id": "bc9508d3",
   "metadata": {},
   "outputs": [],
   "source": []
  },
  {
   "cell_type": "code",
   "execution_count": null,
   "id": "a56ac759",
   "metadata": {},
   "outputs": [],
   "source": []
  },
  {
   "cell_type": "code",
   "execution_count": null,
   "id": "b744544f",
   "metadata": {},
   "outputs": [],
   "source": []
  }
 ],
 "metadata": {
  "kernelspec": {
   "display_name": "Python 3",
   "language": "python",
   "name": "python3"
  },
  "language_info": {
   "codemirror_mode": {
    "name": "ipython",
    "version": 3
   },
   "file_extension": ".py",
   "mimetype": "text/x-python",
   "name": "python",
   "nbconvert_exporter": "python",
   "pygments_lexer": "ipython3",
   "version": "3.8.5"
  }
 },
 "nbformat": 4,
 "nbformat_minor": 5
}
