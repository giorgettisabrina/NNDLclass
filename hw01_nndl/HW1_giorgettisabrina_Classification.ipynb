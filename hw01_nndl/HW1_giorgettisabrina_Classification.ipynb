{
  "cells": [
    {
      "cell_type": "markdown",
      "id": "b0d2655f",
      "metadata": {
        "id": "b0d2655f"
      },
      "source": [
        "# Classification"
      ]
    },
    {
      "cell_type": "markdown",
      "id": "56a54654",
      "metadata": {
        "id": "56a54654"
      },
      "source": [
        "## General overview\n",
        "In this homework you will learn how to implement and test simple neural network models for solving supervised problems. It is divided in two tasks.\n",
        "\n",
        "* **Regression task**: \n",
        "the regression model will consist in a simple function approximation problem, similar to the one discussed during the Lab practices. \n",
        "\n",
        "* **Classification task**: \n",
        "the classification model will consist in a simple image recognition problem, where the goal is to correctly classify images of Zalando's article images (Fashion MNIST). \n",
        "\n",
        "In both cases, but especially for the classification problem, you should explore the use of advanced optimizers and regularization methods (e.g., initialization scheme, momentum, ADAM, early stopping, L2, L1 / sparsity, dropout…) to improve convergence of stochastic gradient descent and promote generalization. Learning hyperparameters should be tuned using appropriate search procedures, and final accuracy should be evaluated using a cross-validation setup. For the image classification task, you can also implement more advanced convolutional architectures and explore feature visualization techniques to better understand how the deep network is encoding information at different processing layers."
      ]
    },
    {
      "cell_type": "markdown",
      "id": "8498fefc",
      "metadata": {
        "id": "8498fefc"
      },
      "source": [
        "\n",
        "## Grade\n",
        "The maximum grade for this homework will be **8 points**. Points will be assigned based on the correct implementation of the following items:\n",
        "*\t2 pt: implement basic regression and classification tasks\n",
        "*\t2 pt: explore advanced optimizers and regularization methods (both tasks)\n",
        "*\t1 pt: optimize hyperparameters using grid/random search and cross-validation (both tasks)\n",
        "*\t2 pt: implement CNN for classification task\n",
        "*\t1 pt: visualize weight histograms, activation profiles and receptive fields\n"
      ]
    },
    {
      "cell_type": "markdown",
      "id": "685b2b83",
      "metadata": {
        "id": "685b2b83"
      },
      "source": [
        "## Guidelines"
      ]
    },
    {
      "cell_type": "markdown",
      "id": "0a53c6a5",
      "metadata": {
        "id": "0a53c6a5"
      },
      "source": [
        "* The goal is to train a neural network that maps an input image (from fashionMNIST) to one of ten classes (multi-class classification problem with mutually exclusive classes).\n",
        "* Define a proper loss (e.g. [torch.nn.CrossEntropyLoss](https://pytorch.org/docs/stable/generated/torch.nn.CrossEntropyLoss.html#torch.nn.CrossEntropyLoss))\n",
        "* Also here, consider to create a validation set from you training data, or use a k-fold cross-validation strategy.\n",
        "* Pay attention to the shape, data type and output values range. If needed, modify them accordingly to your implementation (read carefully the documentation of the layers that you use, e.g. [torch.nn.Conv2d](https://pytorch.org/docs/stable/generated/torch.nn.Conv2d.html)).\n",
        "* Explore different optimizers, acivation functions, network architectures. Analyze the effect of different regularization methods, such as dropout layers, random transformations (image rotation, scaling, add noise...) or L2 regularization (weight decay)."
      ]
    },
    {
      "cell_type": "code",
      "execution_count": 12,
      "id": "eec5c349",
      "metadata": {
        "id": "eec5c349"
      },
      "outputs": [],
      "source": [
        "## Import \n",
        "import torch\n",
        "import torchvision\n",
        "import matplotlib.pyplot as plt\n",
        "import numpy as np\n",
        "import pandas as pd\n",
        "from torch import nn\n",
        "\n",
        "\n",
        "import os\n",
        "import torch\n",
        "from torch import nn\n",
        "from torchvision.datasets import MNIST\n",
        "from torch.utils.data import DataLoader, ConcatDataset\n",
        "from torchvision import transforms\n",
        "from sklearn.model_selection import KFold"
      ]
    },
    {
      "cell_type": "code",
      "source": [
        "# Check if the GPU is available\n",
        "device = torch.device(\"cuda\") if torch.cuda.is_available() else torch.device(\"cpu\")\n",
        "print(f\"Training device: {device}\")"
      ],
      "metadata": {
        "colab": {
          "base_uri": "https://localhost:8080/"
        },
        "id": "ReAfm9q2fv5s",
        "outputId": "81b94aa9-67f6-4115-872a-aebdb3154367"
      },
      "id": "ReAfm9q2fv5s",
      "execution_count": 2,
      "outputs": [
        {
          "output_type": "stream",
          "name": "stdout",
          "text": [
            "Training device: cuda\n"
          ]
        }
      ]
    },
    {
      "cell_type": "markdown",
      "id": "4539e8e7",
      "metadata": {
        "id": "4539e8e7"
      },
      "source": [
        "## Dataset prof"
      ]
    },
    {
      "cell_type": "markdown",
      "id": "1e9004a1",
      "metadata": {
        "id": "1e9004a1"
      },
      "source": [
        "Download the dataset:"
      ]
    },
    {
      "cell_type": "code",
      "execution_count": null,
      "id": "0164657f",
      "metadata": {
        "id": "0164657f"
      },
      "outputs": [],
      "source": [
        "train_dataset = torchvision.datasets.FashionMNIST('classifier_data', train=True, download=True)\n",
        "test_dataset  = torchvision.datasets.FashionMNIST('classifier_data', train=False, download=True)"
      ]
    },
    {
      "cell_type": "markdown",
      "id": "d39a67c5",
      "metadata": {
        "id": "d39a67c5"
      },
      "source": [
        "How to get an image and the corresponding label:"
      ]
    },
    {
      "cell_type": "code",
      "execution_count": 4,
      "id": "3d0edc88",
      "metadata": {
        "colab": {
          "base_uri": "https://localhost:8080/",
          "height": 518
        },
        "id": "3d0edc88",
        "outputId": "d4ed15e9-e6b9-401b-f82a-aa2afa61fb4c"
      },
      "outputs": [
        {
          "output_type": "stream",
          "name": "stdout",
          "text": [
            "SAMPLE AT INDEX 0\n",
            "LABEL: 9\n"
          ]
        },
        {
          "output_type": "display_data",
          "data": {
            "text/plain": [
              "<Figure size 576x576 with 1 Axes>"
            ],
            "image/png": "[encoded data removed]"
          },
          "metadata": {
            "needs_background": "light"
          }
        }
      ],
      "source": [
        "sample_index = 0\n",
        "image = train_dataset[sample_index][0]\n",
        "label = train_dataset[sample_index][1]\n",
        "\n",
        "fig = plt.figure(figsize=(8,8))\n",
        "plt.imshow(image, cmap='Greys')\n",
        "print(f\"SAMPLE AT INDEX {sample_index}\")\n",
        "print(f\"LABEL: {label}\")"
      ]
    },
    {
      "cell_type": "markdown",
      "id": "40d8d8e9",
      "metadata": {
        "id": "40d8d8e9"
      },
      "source": [
        "The output of the dataset is a PIL Image, a python object specifically developed to manage and process images. PyTorch supports this format, and there are useful transforms available natively in the framework: https://pytorch.org/docs/stable/torchvision/transforms.html\n",
        "\n",
        "If you want, you can easily convert a PIL image to a numpy array and entirely ignore the PIL object:"
      ]
    },
    {
      "cell_type": "code",
      "execution_count": 5,
      "id": "201ae7b8",
      "metadata": {
        "colab": {
          "base_uri": "https://localhost:8080/"
        },
        "id": "201ae7b8",
        "outputId": "87e7be77-0cf4-4bfb-a80e-71cadf55d5ac"
      },
      "outputs": [
        {
          "output_type": "stream",
          "name": "stdout",
          "text": [
            "Numpy array shape: (28, 28)\n",
            "Numpy array type: uint8\n"
          ]
        }
      ],
      "source": [
        "image_numpy = np.array(image)\n",
        "\n",
        "print(f'Numpy array shape: {image_numpy.shape}')\n",
        "print(f'Numpy array type: {image_numpy.dtype}')"
      ]
    },
    {
      "cell_type": "markdown",
      "id": "26783943",
      "metadata": {
        "id": "26783943"
      },
      "source": [
        "To transform a PIL Image directly to a PyTorch tensor, instead:"
      ]
    },
    {
      "cell_type": "code",
      "execution_count": 6,
      "id": "50b7db34",
      "metadata": {
        "colab": {
          "base_uri": "https://localhost:8080/"
        },
        "id": "50b7db34",
        "outputId": "b77d9063-f2af-431f-9d91-4c1dde5bba31"
      },
      "outputs": [
        {
          "output_type": "stream",
          "name": "stdout",
          "text": [
            "PyTorch tensor shape: torch.Size([1, 28, 28])\n",
            "PyTorch tensor type: torch.float32\n"
          ]
        }
      ],
      "source": [
        "to_tensor = torchvision.transforms.ToTensor()\n",
        "image_tensor = to_tensor(image)\n",
        "\n",
        "print(f'PyTorch tensor shape: {image_tensor.shape}')\n",
        "print(f'PyTorch tensor type: {image_tensor.dtype}')"
      ]
    },
    {
      "cell_type": "code",
      "source": [
        ""
      ],
      "metadata": {
        "id": "kN3s-Z_Ii4AC"
      },
      "id": "kN3s-Z_Ii4AC",
      "execution_count": null,
      "outputs": []
    },
    {
      "cell_type": "markdown",
      "source": [
        "#Dataset"
      ],
      "metadata": {
        "id": "hyhHb8V4cZO5"
      },
      "id": "hyhHb8V4cZO5"
    },
    {
      "cell_type": "code",
      "source": [
        "#Obtain the validation dataset \n",
        "#train_size= int(0.8*len(train_dataset))\n",
        "#val_size = len(train_dataset)-train_size\n",
        "#print(train_size,val_size)\n",
        "#train_dataset, validation_dataset = torch.utils.data.random_split(train_dataset, [train_size, val_size])\n",
        "#Dataloader"
      ],
      "metadata": {
        "colab": {
          "base_uri": "https://localhost:8080/"
        },
        "id": "Pkw5VHTGdFJs",
        "outputId": "810e2361-7815-4479-a3c4-1115ffaed714"
      },
      "id": "Pkw5VHTGdFJs",
      "execution_count": null,
      "outputs": [
        {
          "output_type": "stream",
          "name": "stdout",
          "text": [
            "38400 9600\n"
          ]
        },
        {
          "output_type": "execute_result",
          "data": {
            "text/plain": [
              "<torch.utils.data.dataset.Subset at 0x7fac4875f390>"
            ]
          },
          "metadata": {},
          "execution_count": 17
        }
      ]
    },
    {
      "cell_type": "code",
      "source": [
        "dataset_transforms = transforms.Compose([transforms.ToTensor(),\n",
        "#                                    transforms.Normalize((0.1307,), (0.3081,))\n",
        "                                     ])\n",
        "\n",
        "#Could define \n",
        "#train_trasform with random noise, rotation ecc.\n",
        "#to add to dataset_trasform for the training data."
      ],
      "metadata": {
        "id": "UFWJxGk9Ot4i"
      },
      "id": "UFWJxGk9Ot4i",
      "execution_count": 17,
      "outputs": []
    },
    {
      "cell_type": "code",
      "source": [
        "train_dataset = torchvision.datasets.FashionMNIST('classifier_data', train=True, transform=dataset_transforms,download=True)\n",
        "test_dataset  = torchvision.datasets.FashionMNIST('classifier_data', train=False, transform=dataset_transforms, download=True) "
      ],
      "metadata": {
        "id": "XHoMJVeQcXMG"
      },
      "id": "XHoMJVeQcXMG",
      "execution_count": 22,
      "outputs": []
    },
    {
      "cell_type": "code",
      "source": [
        "train_dataset"
      ],
      "metadata": {
        "colab": {
          "base_uri": "https://localhost:8080/"
        },
        "id": "tTFXYb5Fcccz",
        "outputId": "db82c1a9-a4fd-4848-aba7-c8bc830a3173"
      },
      "id": "tTFXYb5Fcccz",
      "execution_count": 23,
      "outputs": [
        {
          "output_type": "execute_result",
          "data": {
            "text/plain": [
              "Dataset FashionMNIST\n",
              "    Number of datapoints: 60000\n",
              "    Root location: classifier_data\n",
              "    Split: Train\n",
              "    StandardTransform\n",
              "Transform: Compose(\n",
              "               ToTensor()\n",
              "           )"
            ]
          },
          "metadata": {},
          "execution_count": 23
        }
      ]
    },
    {
      "cell_type": "code",
      "source": [
        "test_dataset"
      ],
      "metadata": {
        "colab": {
          "base_uri": "https://localhost:8080/"
        },
        "id": "KtswWclscs12",
        "outputId": "0538eb64-c347-4efd-ac4b-08acf39ce636"
      },
      "id": "KtswWclscs12",
      "execution_count": 24,
      "outputs": [
        {
          "output_type": "execute_result",
          "data": {
            "text/plain": [
              "Dataset FashionMNIST\n",
              "    Number of datapoints: 10000\n",
              "    Root location: classifier_data\n",
              "    Split: Test\n",
              "    StandardTransform\n",
              "Transform: Compose(\n",
              "               ToTensor()\n",
              "           )"
            ]
          },
          "metadata": {},
          "execution_count": 24
        }
      ]
    },
    {
      "cell_type": "markdown",
      "source": [
        "# Model"
      ],
      "metadata": {
        "id": "CEzga8OefkVU"
      },
      "id": "CEzga8OefkVU"
    },
    {
      "cell_type": "code",
      "source": [
        "class SimpleConvNet(nn.Module):\n",
        "  '''\n",
        "    Simple Convolutional Neural Network\n",
        "  '''\n",
        "  def __init__(self):\n",
        "    super().__init__()\n",
        "    self.layers = nn.Sequential(\n",
        "      nn.Conv2d(1, 10, kernel_size=3),\n",
        "      nn.ReLU(),\n",
        "      nn.Flatten(),\n",
        "      nn.Linear(26 * 26 * 10, 50),\n",
        "      nn.ReLU(),\n",
        "      nn.Linear(50, 20),\n",
        "      nn.ReLU(),\n",
        "      nn.Linear(20, 10)\n",
        "    )\n",
        "\n",
        "\n",
        "  def forward(self, x):\n",
        "    '''Forward pass'''\n",
        "    return self.layers(x)"
      ],
      "metadata": {
        "id": "awp91iwMMThM"
      },
      "id": "awp91iwMMThM",
      "execution_count": 80,
      "outputs": []
    },
    {
      "cell_type": "markdown",
      "source": [
        "# Training"
      ],
      "metadata": {
        "id": "RK8nPX5Sfmiy"
      },
      "id": "RK8nPX5Sfmiy"
    },
    {
      "cell_type": "code",
      "source": [
        "def training(self, device, loss_fn, optimizer, num_epochs, trainloader):\n",
        "  \n",
        "    # Initialize optimizer\n",
        "    #optimizer = torch.optim.Adam(network.parameters(), lr=1e-4)\n",
        "    optimizer = optimizer\n",
        "    train_loss = []\n",
        "\n",
        "    # Run the training loop for defined number of epochs\n",
        "    for epoch in range(0, num_epochs):\n",
        "  \n",
        "      # Print epoch\n",
        "      #print(f'Starting epoch {epoch+1}')\n",
        "\n",
        "      # Iterate over the DataLoader for training data\n",
        "      for i, data in enumerate(trainloader, 0):\n",
        "\n",
        "        inputs = data[0].to(device)\n",
        "        targets = data[1].to(device)\n",
        "        out = self(inputs)\n",
        "        loss = loss_fn(out,targets)\n",
        "        self.zero_grad()\n",
        "        loss.backward()\n",
        "        optimizer.step()\n",
        "\n",
        "        # Save train loss for this batch\n",
        "        loss_batch = loss.detach().cpu().numpy()\n",
        "        train_loss.append(loss_batch)\n",
        "            \n",
        "    # Process is complete.\n",
        "    #print('Training process has finished. Saving trained model.')\n",
        "    \n",
        "    # Saving the model\n",
        "    #save_path = f'./model-fold-{fold}.pth'\n",
        "    #torch.save(network.state_dict(), save_path)\n",
        "    return train_loss\n",
        "\n",
        "def evaluate(self, device, loss_fn, optimizer, num_epochs, vloader):\n",
        "  val_loss = []\n",
        "  correct = 0\n",
        "  total = 0\n",
        "\n",
        "  self.eval()\n",
        "  with torch.no_grad():\n",
        "    for i, data in enumerate(vloader, 0):\n",
        "\n",
        "        inputs = data[0].to(device)\n",
        "        targets = data[1].to(device)\n",
        "        out = self(inputs)\n",
        "        loss = loss_fn(out,targets)\n",
        "        # Save train loss for this batch\n",
        "        loss_val = loss.detach().cpu().numpy()\n",
        "        val_loss.append(loss_val)\n",
        "\n",
        "        # Set total and correct\n",
        "        _, predicted = torch.max(out.data, 1)\n",
        "        total += targets.size(0)\n",
        "        correct += (predicted == targets).sum().item()\n",
        "\n",
        "    #Print accuracy\n",
        "    print('Accuracy for fold %d: %d %%' % (fold, 100.0 * correct / total))\n",
        "    print('--------------------------------')\n",
        "    results[fold] = 100.0 * (correct / total)\n",
        "    return val_loss \n",
        "\n",
        "\n"
      ],
      "metadata": {
        "id": "SOZKPhb-RKmH"
      },
      "id": "SOZKPhb-RKmH",
      "execution_count": 74,
      "outputs": []
    },
    {
      "cell_type": "code",
      "source": [
        "def reset_weights(m):\n",
        "  '''\n",
        "    Try resetting model weights to avoid\n",
        "    weight leakage.\n",
        "  '''\n",
        "  for layer in m.children():\n",
        "   #The hasattr() method returns true if an object has the given named attribute and false if it does not\n",
        "   # hasttr(object,name)\n",
        "   if hasattr(layer, 'reset_parameters'):\n",
        "    #print(f'Reset trainable parameters of layer = {layer}')\n",
        "    layer.reset_parameters()\n"
      ],
      "metadata": {
        "id": "jkekgXlPMmHh"
      },
      "id": "jkekgXlPMmHh",
      "execution_count": 83,
      "outputs": []
    },
    {
      "cell_type": "code",
      "source": [
        "def kfold_validation(dataset, network):\n",
        "    k_folds = 2\n",
        "    num_epochs = 1\n",
        "    loss_function = nn.CrossEntropyLoss()\n",
        "    dataset = dataset\n",
        "\n",
        "    # Define the K-fold Cross Validator\n",
        "    kfold = KFold(n_splits=k_folds, shuffle=True)\n",
        "\n",
        "    # K-fold Cross Validation model evaluation\n",
        "    for fold, (train_ids, test_ids) in enumerate(kfold.split(dataset)):\n",
        "      # Print\n",
        "      print(f'FOLD {fold}')\n",
        "      print('--------------------------------')\n",
        "      # Sample elements randomly from a given list of ids, no replacement.\n",
        "      train_subsampler = torch.utils.data.SubsetRandomSampler(train_ids)\n",
        "      test_subsampler = torch.utils.data.SubsetRandomSampler(test_ids)\n",
        "      # Define data loaders for training and testing data in this fold\n",
        "      trainloader = torch.utils.data.DataLoader(dataset, batch_size=10, sampler=train_subsampler)\n",
        "      testloader = torch.utils.data.DataLoader(dataset,batch_size=10, sampler=test_subsampler)\n",
        "      # Init the neural network\n",
        "      #network = SimpleConvNet()\n",
        "      #network.to(device)\n",
        "      network.apply(reset_weights)\n",
        "      # Initialize optimizer\n",
        "      optimizer = torch.optim.Adam(network.parameters(), lr=1e-4)\n",
        "      #This is the training loop then!\n",
        "      #Could call a training loop function!\n",
        "      #print(trainloader)\n",
        "      training(network, device, loss_function, optimizer, 2, trainloader)\n",
        "      evaluate(network, device, loss_function, optimizer, 2, testloader)\n",
        "\n",
        "    #Print fold results\n",
        "    print(f'K-FOLD CROSS VALIDATION RESULTS FOR {k_folds} FOLDS')\n",
        "    print('--------------------------------')\n",
        "    sum = 0.0\n",
        "    for key, value in results.items():\n",
        "      print(f'Fold {key}: {value} %')\n",
        "      sum += value\n",
        "    print(f'Average: {sum/len(results.items())} %')\n",
        "    average = sum/len(results.items())\n",
        "\n",
        "    return average\n",
        "\n",
        "\n"
      ],
      "metadata": {
        "id": "2FLSporFP-5i"
      },
      "id": "2FLSporFP-5i",
      "execution_count": 132,
      "outputs": []
    },
    {
      "cell_type": "code",
      "source": [
        "kfold_validation(train_dataset)"
      ],
      "metadata": {
        "colab": {
          "base_uri": "https://localhost:8080/"
        },
        "id": "jSbDNm1VTrCE",
        "outputId": "b8d05fd2-2c85-4cbf-bd84-bac6c0bcbcb1"
      },
      "id": "jSbDNm1VTrCE",
      "execution_count": 99,
      "outputs": [
        {
          "output_type": "stream",
          "name": "stdout",
          "text": [
            "FOLD 0\n",
            "--------------------------------\n",
            "Accuracy for fold 1: 80 %\n",
            "--------------------------------\n",
            "FOLD 1\n",
            "--------------------------------\n",
            "Accuracy for fold 1: 82 %\n",
            "--------------------------------\n",
            "K-FOLD CROSS VALIDATION RESULTS FOR 2 FOLDS\n",
            "--------------------------------\n",
            "Fold 0: 80.67999999999999 %\n",
            "Fold 1: 82.39666666666666 %\n",
            "Average: 81.53833333333333 %\n"
          ]
        },
        {
          "output_type": "execute_result",
          "data": {
            "text/plain": [
              "81.53833333333333"
            ]
          },
          "metadata": {},
          "execution_count": 99
        }
      ]
    },
    {
      "cell_type": "code",
      "source": [
        ""
      ],
      "metadata": {
        "id": "rAqK1MKvVGTx"
      },
      "id": "rAqK1MKvVGTx",
      "execution_count": null,
      "outputs": []
    },
    {
      "cell_type": "code",
      "source": [
        ""
      ],
      "metadata": {
        "id": "zoogGyp7VGLN"
      },
      "id": "zoogGyp7VGLN",
      "execution_count": null,
      "outputs": []
    },
    {
      "cell_type": "code",
      "source": [
        ""
      ],
      "metadata": {
        "id": "MXEzKR5BgVj0"
      },
      "id": "MXEzKR5BgVj0",
      "execution_count": null,
      "outputs": []
    },
    {
      "cell_type": "code",
      "source": [
        ""
      ],
      "metadata": {
        "id": "tj_HNfWJVGBg"
      },
      "id": "tj_HNfWJVGBg",
      "execution_count": null,
      "outputs": []
    },
    {
      "cell_type": "markdown",
      "source": [
        "# KFOLD standard \n",
        "https://github.com/christianversloot/machine-learning-articles/blob/main/how-to-use-k-fold-cross-validation-with-pytorch.md"
      ],
      "metadata": {
        "id": "ZTW3zYOhgWJz"
      },
      "id": "ZTW3zYOhgWJz"
    },
    {
      "cell_type": "code",
      "source": [
        "if __name__ == '__main__':\n",
        "  \n",
        "  # Configuration options\n",
        "  k_folds = 2\n",
        "  num_epochs = 1\n",
        "  loss_function = nn.CrossEntropyLoss()\n",
        "  \n",
        "  # For fold results\n",
        "  results = {}\n",
        "  \n",
        "  # Set fixed random number seed\n",
        "  torch.manual_seed(42)\n",
        "  \n",
        "  # Prepare MNIST dataset by concatenating \n",
        "  #See above\n",
        "  dataset = train_dataset\n",
        "\n",
        "\n",
        "  # Define the K-fold Cross Validator\n",
        "  kfold = KFold(n_splits=k_folds, shuffle=True)\n",
        "    \n",
        "  # Start print\n",
        "  print('--------------------------------')\n",
        "\n",
        "  # K-fold Cross Validation model evaluation\n",
        "  for fold, (train_ids, test_ids) in enumerate(kfold.split(dataset)):\n",
        "    \n",
        "    # Print\n",
        "    print(f'FOLD {fold}')\n",
        "    print('--------------------------------')\n",
        "    \n",
        "    # Sample elements randomly from a given list of ids, no replacement.\n",
        "    train_subsampler = torch.utils.data.SubsetRandomSampler(train_ids)\n",
        "    test_subsampler = torch.utils.data.SubsetRandomSampler(test_ids)\n",
        "    \n",
        "    # Define data loaders for training and testing data in this fold\n",
        "    trainloader = torch.utils.data.DataLoader(\n",
        "                      dataset, \n",
        "                      batch_size=10, sampler=train_subsampler)\n",
        "    testloader = torch.utils.data.DataLoader(\n",
        "                      dataset,\n",
        "                      batch_size=10, sampler=test_subsampler)\n",
        "    \n",
        "    # Init the neural network\n",
        "    network = SimpleConvNet()\n",
        "    network.apply(reset_weights)\n",
        "    \n",
        "    # Initialize optimizer\n",
        "    optimizer = torch.optim.Adam(network.parameters(), lr=1e-4)\n",
        "    \n",
        "    # Run the training loop for defined number of epochs\n",
        "    for epoch in range(0, num_epochs):\n",
        "\n",
        "      # Print epoch\n",
        "      print(f'Starting epoch {epoch+1}')\n",
        "\n",
        "      # Set current loss value\n",
        "      current_loss = 0.0\n",
        "\n",
        "      # Iterate over the DataLoader for training data\n",
        "      for i, data in enumerate(trainloader, 0):\n",
        "        \n",
        "        # Get inputs\n",
        "        inputs, targets = data\n",
        "        \n",
        "        # Zero the gradients\n",
        "        optimizer.zero_grad()\n",
        "        \n",
        "        # Perform forward pass\n",
        "        outputs = network(inputs)\n",
        "        \n",
        "        # Compute loss\n",
        "        loss = loss_function(outputs, targets)\n",
        "        \n",
        "        # Perform backward pass\n",
        "        loss.backward()\n",
        "        \n",
        "        # Perform optimization\n",
        "        optimizer.step()\n",
        "        \n",
        "        # Print statistics\n",
        "        current_loss += loss.item()\n",
        "        if i % 500 == 499:\n",
        "            print('Loss after mini-batch %5d: %.3f' %\n",
        "                  (i + 1, current_loss / 500))\n",
        "            current_loss = 0.0\n",
        "            \n",
        "    # Process is complete.\n",
        "    print('Training process has finished. Saving trained model.')\n",
        "\n",
        "    # Print about testing\n",
        "    print('Starting testing')\n",
        "    \n",
        "    # Saving the model\n",
        "    save_path = f'./model-fold-{fold}.pth'\n",
        "    torch.save(network.state_dict(), save_path)\n",
        "\n",
        "    # Evaluationfor this fold\n",
        "    correct, total = 0, 0\n",
        "    with torch.no_grad():\n",
        "\n",
        "      # Iterate over the test data and generate predictions\n",
        "      for i, data in enumerate(testloader, 0):\n",
        "\n",
        "        # Get inputs\n",
        "        inputs, targets = data\n",
        "\n",
        "        # Generate outputs\n",
        "        outputs = network(inputs)\n",
        "\n",
        "        # Set total and correct\n",
        "        _, predicted = torch.max(outputs.data, 1)\n",
        "        total += targets.size(0)\n",
        "        correct += (predicted == targets).sum().item()\n",
        "\n",
        "      # Print accuracy\n",
        "      print('Accuracy for fold %d: %d %%' % (fold, 100.0 * correct / total))\n",
        "      print('--------------------------------')\n",
        "      results[fold] = 100.0 * (correct / total)\n",
        "    \n",
        "  # Print fold results\n",
        "  print(f'K-FOLD CROSS VALIDATION RESULTS FOR {k_folds} FOLDS')\n",
        "  print('--------------------------------')\n",
        "  sum = 0.0\n",
        "  for key, value in results.items():\n",
        "    print(f'Fold {key}: {value} %')\n",
        "    sum += value\n",
        "  print(f'Average: {sum/len(results.items())} %')"
      ],
      "metadata": {
        "colab": {
          "base_uri": "https://localhost:8080/"
        },
        "id": "bekhuGVnNE8C",
        "outputId": "1fec6bb3-2f1d-41f5-a0bb-0435a936c7f3"
      },
      "id": "bekhuGVnNE8C",
      "execution_count": 78,
      "outputs": [
        {
          "output_type": "stream",
          "name": "stdout",
          "text": [
            "--------------------------------\n",
            "FOLD 0\n",
            "--------------------------------\n",
            "Reset trainable parameters of layer = Conv2d(1, 10, kernel_size=(3, 3), stride=(1, 1))\n",
            "Reset trainable parameters of layer = Linear(in_features=6760, out_features=50, bias=True)\n",
            "Reset trainable parameters of layer = Linear(in_features=50, out_features=20, bias=True)\n",
            "Reset trainable parameters of layer = Linear(in_features=20, out_features=10, bias=True)\n",
            "Starting epoch 1\n",
            "Loss after mini-batch   500: 1.664\n",
            "Loss after mini-batch  1000: 0.798\n",
            "Loss after mini-batch  1500: 0.671\n",
            "Loss after mini-batch  2000: 0.626\n",
            "Loss after mini-batch  2500: 0.609\n",
            "Loss after mini-batch  3000: 0.586\n",
            "Training process has finished. Saving trained model.\n",
            "Starting testing\n",
            "Accuracy for fold 0: 80 %\n",
            "--------------------------------\n",
            "FOLD 1\n",
            "--------------------------------\n",
            "Reset trainable parameters of layer = Conv2d(1, 10, kernel_size=(3, 3), stride=(1, 1))\n",
            "Reset trainable parameters of layer = Linear(in_features=6760, out_features=50, bias=True)\n",
            "Reset trainable parameters of layer = Linear(in_features=50, out_features=20, bias=True)\n",
            "Reset trainable parameters of layer = Linear(in_features=20, out_features=10, bias=True)\n",
            "Starting epoch 1\n",
            "Loss after mini-batch   500: 1.657\n",
            "Loss after mini-batch  1000: 0.895\n",
            "Loss after mini-batch  1500: 0.655\n",
            "Loss after mini-batch  2000: 0.604\n",
            "Loss after mini-batch  2500: 0.589\n",
            "Loss after mini-batch  3000: 0.538\n",
            "Training process has finished. Saving trained model.\n",
            "Starting testing\n",
            "Accuracy for fold 1: 78 %\n",
            "--------------------------------\n",
            "K-FOLD CROSS VALIDATION RESULTS FOR 2 FOLDS\n",
            "--------------------------------\n",
            "Fold 0: 80.67999999999999 %\n",
            "Fold 1: 78.42 %\n",
            "Average: 79.55 %\n"
          ]
        }
      ]
    },
    {
      "cell_type": "markdown",
      "source": [
        "# Optuna with manual kfolf cross validation ... define the training loop inside the study ..."
      ],
      "metadata": {
        "id": "gwqlMFO9fKBf"
      },
      "id": "gwqlMFO9fKBf"
    },
    {
      "cell_type": "code",
      "source": [
        "! pip install optuna"
      ],
      "metadata": {
        "id": "eANAVkE2fJuZ"
      },
      "id": "eANAVkE2fJuZ",
      "execution_count": null,
      "outputs": []
    },
    {
      "cell_type": "code",
      "source": [
        "import optuna\n",
        "import torch.optim as optim"
      ],
      "metadata": {
        "id": "NARIKgFCfV1M"
      },
      "id": "NARIKgFCfV1M",
      "execution_count": 114,
      "outputs": []
    },
    {
      "cell_type": "code",
      "source": [
        "class SimpleConvNet(nn.Module):\n",
        "  '''\n",
        "    Simple Convolutional Neural Network\n",
        "  '''\n",
        "  def __init__(self, trial):\n",
        "    super().__init__()\n",
        "    self.layers = nn.Sequential(\n",
        "      nn.Conv2d(1, 10, kernel_size=3),\n",
        "      nn.ReLU(),\n",
        "      nn.Flatten(),\n",
        "      nn.Linear(26 * 26 * 10, 50),\n",
        "      nn.ReLU(),\n",
        "      nn.Linear(50, 20),\n",
        "      nn.ReLU(),\n",
        "      nn.Linear(20, 10)\n",
        "    )\n",
        "\n",
        "\n",
        "  def forward(self, x):\n",
        "    '''Forward pass'''\n",
        "    return self.layers(x)\n",
        "\n",
        "\n",
        "  \n",
        "\n",
        "#def define_model(trial):\n",
        "#    # We optimize the number of layers, hidden units and dropout ratio in each layer.\n",
        "#    n_layers = trial.suggest_int(\"n_layers\", 1, 3)\n",
        "#    layers = []\n",
        "#\n",
        "#    in_features = 28 * 28\n",
        "#    for i in range(n_layers):\n",
        "#        out_features = trial.suggest_int(\"n_units_l{}\".format(i), 4, 128)\n",
        "#        layers.append(nn.Linear(in_features, out_features))\n",
        "#        layers.append(nn.ReLU())\n",
        "#        p = trial.suggest_float(\"dropout_l{}\".format(i), 0.2, 0.5)\n",
        "#        layers.append(nn.Dropout(p))\n",
        "#\n",
        "#        in_features = out_features\n",
        "#    layers.append(nn.Linear(in_features, 10))\n",
        "#    layers.append(nn.LogSoftmax(dim=1))\n",
        "#\n",
        "#    return nn.Sequential(*layers)\n"
      ],
      "metadata": {
        "id": "hzbfahu9ig-f"
      },
      "id": "hzbfahu9ig-f",
      "execution_count": 133,
      "outputs": []
    },
    {
      "cell_type": "code",
      "source": [
        "def objective(trial):\n",
        "\n",
        "  #model = model.to(device)\n",
        "\n",
        "  #model = define_model(trial).to(device)\n",
        "  model = SimpleConvNet(trial).to(device)\n",
        "\n",
        "  # Generate the optimizers.\n",
        "  optimizer_name = trial.suggest_categorical(\"optimizer\", [\"Adam\", \"RMSprop\", \"SGD\"])\n",
        "  lr = trial.suggest_float(\"lr\", 1e-5, 1e-1, log=True)\n",
        "  optimizer = getattr(optim, optimizer_name)(model.parameters(), lr=lr)\n",
        "\n",
        "  accuracy = kfold_validation(train_dataset, model)\n",
        "\n",
        "  return accuracy"
      ],
      "metadata": {
        "id": "zaIRK88Jf99G"
      },
      "id": "zaIRK88Jf99G",
      "execution_count": 130,
      "outputs": []
    },
    {
      "cell_type": "code",
      "source": [
        "study = optuna.create_study(direction=\"maximize\")\n",
        "study.optimize(objective, n_trials=5, timeout=600)"
      ],
      "metadata": {
        "colab": {
          "base_uri": "https://localhost:8080/"
        },
        "id": "Ny41BKSjhpzl",
        "outputId": "765312f1-b777-4c3e-f6a5-0127db008b5c"
      },
      "id": "Ny41BKSjhpzl",
      "execution_count": 136,
      "outputs": [
        {
          "output_type": "stream",
          "name": "stderr",
          "text": [
            "\u001b[32m[I 2022-06-19 10:53:14,277]\u001b[0m A new study created in memory with name: no-name-efd28592-95e3-4317-85f5-940fd25bf3b8\u001b[0m\n"
          ]
        },
        {
          "output_type": "stream",
          "name": "stdout",
          "text": [
            "FOLD 0\n",
            "--------------------------------\n",
            "Accuracy for fold 1: 81 %\n",
            "--------------------------------\n",
            "FOLD 1\n",
            "--------------------------------\n"
          ]
        },
        {
          "output_type": "stream",
          "name": "stderr",
          "text": [
            "\u001b[32m[I 2022-06-19 10:54:00,398]\u001b[0m Trial 0 finished with value: 81.45666666666666 and parameters: {'optimizer': 'SGD', 'lr': 0.0006616925016832916}. Best is trial 0 with value: 81.45666666666666.\u001b[0m\n"
          ]
        },
        {
          "output_type": "stream",
          "name": "stdout",
          "text": [
            "Accuracy for fold 1: 82 %\n",
            "--------------------------------\n",
            "K-FOLD CROSS VALIDATION RESULTS FOR 2 FOLDS\n",
            "--------------------------------\n",
            "Fold 0: 80.67999999999999 %\n",
            "Fold 1: 82.23333333333333 %\n",
            "Average: 81.45666666666666 %\n",
            "FOLD 0\n",
            "--------------------------------\n",
            "Accuracy for fold 1: 83 %\n",
            "--------------------------------\n",
            "FOLD 1\n",
            "--------------------------------\n"
          ]
        },
        {
          "output_type": "stream",
          "name": "stderr",
          "text": [
            "\u001b[32m[I 2022-06-19 10:54:46,008]\u001b[0m Trial 1 finished with value: 81.83666666666666 and parameters: {'optimizer': 'SGD', 'lr': 1.3714793225264096e-05}. Best is trial 1 with value: 81.83666666666666.\u001b[0m\n"
          ]
        },
        {
          "output_type": "stream",
          "name": "stdout",
          "text": [
            "Accuracy for fold 1: 82 %\n",
            "--------------------------------\n",
            "K-FOLD CROSS VALIDATION RESULTS FOR 2 FOLDS\n",
            "--------------------------------\n",
            "Fold 0: 80.67999999999999 %\n",
            "Fold 1: 82.99333333333333 %\n",
            "Average: 81.83666666666666 %\n",
            "FOLD 0\n",
            "--------------------------------\n",
            "Accuracy for fold 1: 81 %\n",
            "--------------------------------\n",
            "FOLD 1\n",
            "--------------------------------\n"
          ]
        },
        {
          "output_type": "stream",
          "name": "stderr",
          "text": [
            "\u001b[32m[I 2022-06-19 10:55:31,291]\u001b[0m Trial 2 finished with value: 81.21 and parameters: {'optimizer': 'SGD', 'lr': 0.00919456375599481}. Best is trial 1 with value: 81.83666666666666.\u001b[0m\n"
          ]
        },
        {
          "output_type": "stream",
          "name": "stdout",
          "text": [
            "Accuracy for fold 1: 81 %\n",
            "--------------------------------\n",
            "K-FOLD CROSS VALIDATION RESULTS FOR 2 FOLDS\n",
            "--------------------------------\n",
            "Fold 0: 80.67999999999999 %\n",
            "Fold 1: 81.74 %\n",
            "Average: 81.21 %\n",
            "FOLD 0\n",
            "--------------------------------\n",
            "Accuracy for fold 1: 81 %\n",
            "--------------------------------\n",
            "FOLD 1\n",
            "--------------------------------\n"
          ]
        },
        {
          "output_type": "stream",
          "name": "stderr",
          "text": [
            "\u001b[32m[I 2022-06-19 10:56:19,827]\u001b[0m Trial 3 finished with value: 82.05666666666667 and parameters: {'optimizer': 'RMSprop', 'lr': 0.002481014545692836}. Best is trial 3 with value: 82.05666666666667.\u001b[0m\n"
          ]
        },
        {
          "output_type": "stream",
          "name": "stdout",
          "text": [
            "Accuracy for fold 1: 83 %\n",
            "--------------------------------\n",
            "K-FOLD CROSS VALIDATION RESULTS FOR 2 FOLDS\n",
            "--------------------------------\n",
            "Fold 0: 80.67999999999999 %\n",
            "Fold 1: 83.43333333333334 %\n",
            "Average: 82.05666666666667 %\n",
            "FOLD 0\n",
            "--------------------------------\n",
            "Accuracy for fold 1: 83 %\n",
            "--------------------------------\n",
            "FOLD 1\n",
            "--------------------------------\n"
          ]
        },
        {
          "output_type": "stream",
          "name": "stderr",
          "text": [
            "\u001b[32m[I 2022-06-19 10:57:06,205]\u001b[0m Trial 4 finished with value: 81.30666666666667 and parameters: {'optimizer': 'Adam', 'lr': 0.07783779512179836}. Best is trial 3 with value: 82.05666666666667.\u001b[0m\n"
          ]
        },
        {
          "output_type": "stream",
          "name": "stdout",
          "text": [
            "Accuracy for fold 1: 81 %\n",
            "--------------------------------\n",
            "K-FOLD CROSS VALIDATION RESULTS FOR 2 FOLDS\n",
            "--------------------------------\n",
            "Fold 0: 80.67999999999999 %\n",
            "Fold 1: 81.93333333333334 %\n",
            "Average: 81.30666666666667 %\n"
          ]
        }
      ]
    },
    {
      "cell_type": "code",
      "source": [
        "print(\"Study statistics: \")\n",
        "print(\"Number of finished trials: \", len(study.trials))\n",
        "\n",
        "\n",
        "print(\"Best trial:\")\n",
        "trial = study.best_trial\n",
        "\n",
        "print(\"  Value: \", trial.value)\n",
        "\n",
        "print(\"  Params: \")\n",
        "for key, value in trial.params.items():\n",
        "        print(\"    {}: {}\".format(key, value))\n"
      ],
      "metadata": {
        "colab": {
          "base_uri": "https://localhost:8080/"
        },
        "id": "22KoQRPxhsoQ",
        "outputId": "44dc73d7-94fa-4769-db46-145b8556d054"
      },
      "id": "22KoQRPxhsoQ",
      "execution_count": 138,
      "outputs": [
        {
          "output_type": "stream",
          "name": "stdout",
          "text": [
            "Study statistics: \n",
            "Number of finished trials:  5\n",
            "Best trial:\n",
            "  Value:  82.05666666666667\n",
            "  Params: \n",
            "    optimizer: RMSprop\n",
            "    lr: 0.002481014545692836\n"
          ]
        }
      ]
    },
    {
      "cell_type": "code",
      "source": [
        "df = study.trials_dataframe()\n",
        "df"
      ],
      "metadata": {
        "id": "EzAur2a6nI0b",
        "outputId": "882a3e0e-9f3d-4559-b27e-affe73c96f51",
        "colab": {
          "base_uri": "https://localhost:8080/",
          "height": 337
        }
      },
      "id": "EzAur2a6nI0b",
      "execution_count": 141,
      "outputs": [
        {
          "output_type": "execute_result",
          "data": {
            "text/plain": [
              "   number      value             datetime_start          datetime_complete  \\\n",
              "0       0  81.456667 2022-06-19 10:53:14.282390 2022-06-19 10:54:00.397871   \n",
              "1       1  81.836667 2022-06-19 10:54:00.399622 2022-06-19 10:54:46.007858   \n",
              "2       2  81.210000 2022-06-19 10:54:46.009817 2022-06-19 10:55:31.291088   \n",
              "3       3  82.056667 2022-06-19 10:55:31.292931 2022-06-19 10:56:19.827401   \n",
              "4       4  81.306667 2022-06-19 10:56:19.829208 2022-06-19 10:57:06.205299   \n",
              "\n",
              "                duration  params_lr params_optimizer     state  \n",
              "0 0 days 00:00:46.115481   0.000662              SGD  COMPLETE  \n",
              "1 0 days 00:00:45.608236   0.000014              SGD  COMPLETE  \n",
              "2 0 days 00:00:45.281271   0.009195              SGD  COMPLETE  \n",
              "3 0 days 00:00:48.534470   0.002481          RMSprop  COMPLETE  \n",
              "4 0 days 00:00:46.376091   0.077838             Adam  COMPLETE  "
            ],
            "text/html": [
              "\n",
              "  <div id=\"df-858abd54-5e3e-4cb4-943d-8333f2c5ff1d\">\n",
              "    <div class=\"colab-df-container\">\n",
              "      <div>\n",
              "<style scoped>\n",
              "    .dataframe tbody tr th:only-of-type {\n",
              "        vertical-align: middle;\n",
              "    }\n",
              "\n",
              "    .dataframe tbody tr th {\n",
              "        vertical-align: top;\n",
              "    }\n",
              "\n",
              "    .dataframe thead th {\n",
              "        text-align: right;\n",
              "    }\n",
              "</style>\n",
              "<table border=\"1\" class=\"dataframe\">\n",
              "  <thead>\n",
              "    <tr style=\"text-align: right;\">\n",
              "      <th></th>\n",
              "      <th>number</th>\n",
              "      <th>value</th>\n",
              "      <th>datetime_start</th>\n",
              "      <th>datetime_complete</th>\n",
              "      <th>duration</th>\n",
              "      <th>params_lr</th>\n",
              "      <th>params_optimizer</th>\n",
              "      <th>state</th>\n",
              "    </tr>\n",
              "  </thead>\n",
              "  <tbody>\n",
              "    <tr>\n",
              "      <th>0</th>\n",
              "      <td>0</td>\n",
              "      <td>81.456667</td>\n",
              "      <td>2022-06-19 10:53:14.282390</td>\n",
              "      <td>2022-06-19 10:54:00.397871</td>\n",
              "      <td>0 days 00:00:46.115481</td>\n",
              "      <td>0.000662</td>\n",
              "      <td>SGD</td>\n",
              "      <td>COMPLETE</td>\n",
              "    </tr>\n",
              "    <tr>\n",
              "      <th>1</th>\n",
              "      <td>1</td>\n",
              "      <td>81.836667</td>\n",
              "      <td>2022-06-19 10:54:00.399622</td>\n",
              "      <td>2022-06-19 10:54:46.007858</td>\n",
              "      <td>0 days 00:00:45.608236</td>\n",
              "      <td>0.000014</td>\n",
              "      <td>SGD</td>\n",
              "      <td>COMPLETE</td>\n",
              "    </tr>\n",
              "    <tr>\n",
              "      <th>2</th>\n",
              "      <td>2</td>\n",
              "      <td>81.210000</td>\n",
              "      <td>2022-06-19 10:54:46.009817</td>\n",
              "      <td>2022-06-19 10:55:31.291088</td>\n",
              "      <td>0 days 00:00:45.281271</td>\n",
              "      <td>0.009195</td>\n",
              "      <td>SGD</td>\n",
              "      <td>COMPLETE</td>\n",
              "    </tr>\n",
              "    <tr>\n",
              "      <th>3</th>\n",
              "      <td>3</td>\n",
              "      <td>82.056667</td>\n",
              "      <td>2022-06-19 10:55:31.292931</td>\n",
              "      <td>2022-06-19 10:56:19.827401</td>\n",
              "      <td>0 days 00:00:48.534470</td>\n",
              "      <td>0.002481</td>\n",
              "      <td>RMSprop</td>\n",
              "      <td>COMPLETE</td>\n",
              "    </tr>\n",
              "    <tr>\n",
              "      <th>4</th>\n",
              "      <td>4</td>\n",
              "      <td>81.306667</td>\n",
              "      <td>2022-06-19 10:56:19.829208</td>\n",
              "      <td>2022-06-19 10:57:06.205299</td>\n",
              "      <td>0 days 00:00:46.376091</td>\n",
              "      <td>0.077838</td>\n",
              "      <td>Adam</td>\n",
              "      <td>COMPLETE</td>\n",
              "    </tr>\n",
              "  </tbody>\n",
              "</table>\n",
              "</div>\n",
              "      <button class=\"colab-df-convert\" onclick=\"convertToInteractive('df-858abd54-5e3e-4cb4-943d-8333f2c5ff1d')\"\n",
              "              title=\"Convert this dataframe to an interactive table.\"\n",
              "              style=\"display:none;\">\n",
              "        \n",
              "  <svg xmlns=\"http://www.w3.org/2000/svg\" height=\"24px\"viewBox=\"0 0 24 24\"\n",
              "       width=\"24px\">\n",
              "    <path d=\"M0 0h24v24H0V0z\" fill=\"none\"/>\n",
              "    <path d=\"M18.56 5.44l.94 2.06.94-2.06 2.06-.94-2.06-.94-.94-2.06-.94 2.06-2.06.94zm-11 1L8.5 8.5l.94-2.06 2.06-.94-2.06-.94L8.5 2.5l-.94 2.06-2.06.94zm10 10l.94 2.06.94-2.06 2.06-.94-2.06-.94-.94-2.06-.94 2.06-2.06.94z\"/><path d=\"M17.41 7.96l-1.37-1.37c-.4-.4-.92-.59-1.43-.59-.52 0-1.04.2-1.43.59L10.3 9.45l-7.72 7.72c-.78.78-.78 2.05 0 2.83L4 21.41c.39.39.9.59 1.41.59.51 0 1.02-.2 1.41-.59l7.78-7.78 2.81-2.81c.8-.78.8-2.07 0-2.86zM5.41 20L4 18.59l7.72-7.72 1.47 1.35L5.41 20z\"/>\n",
              "  </svg>\n",
              "      </button>\n",
              "      \n",
              "  <style>\n",
              "    .colab-df-container {\n",
              "      display:flex;\n",
              "      flex-wrap:wrap;\n",
              "      gap: 12px;\n",
              "    }\n",
              "\n",
              "    .colab-df-convert {\n",
              "      background-color: #E8F0FE;\n",
              "      border: none;\n",
              "      border-radius: 50%;\n",
              "      cursor: pointer;\n",
              "      display: none;\n",
              "      fill: #1967D2;\n",
              "      height: 32px;\n",
              "      padding: 0 0 0 0;\n",
              "      width: 32px;\n",
              "    }\n",
              "\n",
              "    .colab-df-convert:hover {\n",
              "      background-color: #E2EBFA;\n",
              "      box-shadow: 0px 1px 2px rgba(60, 64, 67, 0.3), 0px 1px 3px 1px rgba(60, 64, 67, 0.15);\n",
              "      fill: #174EA6;\n",
              "    }\n",
              "\n",
              "    [theme=dark] .colab-df-convert {\n",
              "      background-color: #3B4455;\n",
              "      fill: #D2E3FC;\n",
              "    }\n",
              "\n",
              "    [theme=dark] .colab-df-convert:hover {\n",
              "      background-color: #434B5C;\n",
              "      box-shadow: 0px 1px 3px 1px rgba(0, 0, 0, 0.15);\n",
              "      filter: drop-shadow(0px 1px 2px rgba(0, 0, 0, 0.3));\n",
              "      fill: #FFFFFF;\n",
              "    }\n",
              "  </style>\n",
              "\n",
              "      <script>\n",
              "        const buttonEl =\n",
              "          document.querySelector('#df-858abd54-5e3e-4cb4-943d-8333f2c5ff1d button.colab-df-convert');\n",
              "        buttonEl.style.display =\n",
              "          google.colab.kernel.accessAllowed ? 'block' : 'none';\n",
              "\n",
              "        async function convertToInteractive(key) {\n",
              "          const element = document.querySelector('#df-858abd54-5e3e-4cb4-943d-8333f2c5ff1d');\n",
              "          const dataTable =\n",
              "            await google.colab.kernel.invokeFunction('convertToInteractive',\n",
              "                                                     [key], {});\n",
              "          if (!dataTable) return;\n",
              "\n",
              "          const docLinkHtml = 'Like what you see? Visit the ' +\n",
              "            '<a target=\"_blank\" href=https://colab.research.google.com/notebooks/data_table.ipynb>data table notebook</a>'\n",
              "            + ' to learn more about interactive tables.';\n",
              "          element.innerHTML = '';\n",
              "          dataTable['output_type'] = 'display_data';\n",
              "          await google.colab.output.renderOutput(dataTable, element);\n",
              "          const docLink = document.createElement('div');\n",
              "          docLink.innerHTML = docLinkHtml;\n",
              "          element.appendChild(docLink);\n",
              "        }\n",
              "      </script>\n",
              "    </div>\n",
              "  </div>\n",
              "  "
            ]
          },
          "metadata": {},
          "execution_count": 141
        }
      ]
    },
    {
      "cell_type": "code",
      "source": [
        ""
      ],
      "metadata": {
        "id": "MKdnbhsRnVbo"
      },
      "id": "MKdnbhsRnVbo",
      "execution_count": null,
      "outputs": []
    }
  ],
  "metadata": {
    "kernelspec": {
      "display_name": "Python 3",
      "language": "python",
      "name": "python3"
    },
    "language_info": {
      "codemirror_mode": {
        "name": "ipython",
        "version": 3
      },
      "file_extension": ".py",
      "mimetype": "text/x-python",
      "name": "python",
      "nbconvert_exporter": "python",
      "pygments_lexer": "ipython3",
      "version": "3.8.5"
    },
    "colab": {
      "name": "HW1_giorgettisabrina_Classification.ipynb",
      "provenance": []
    },
    "accelerator": "GPU",
    "gpuClass": "standard"
  },
  "nbformat": 4,
  "nbformat_minor": 5
}